{
  "nbformat": 4,
  "nbformat_minor": 0,
  "metadata": {
    "kernelspec": {
      "display_name": "Python 3",
      "language": "python",
      "name": "python3"
    },
    "language_info": {
      "codemirror_mode": {
        "name": "ipython",
        "version": 3
      },
      "file_extension": ".py",
      "mimetype": "text/x-python",
      "name": "python",
      "nbconvert_exporter": "python",
      "pygments_lexer": "ipython3",
      "version": "3.7.3"
    },
    "colab": {
      "name": "Untitled.ipynb",
      "provenance": []
    }
  },
  "cells": [
    {
      "cell_type": "code",
      "metadata": {
        "id": "S5uSPwrlcBHA",
        "colab_type": "code",
        "colab": {}
      },
      "source": [
        "import nltk\n",
        "from sklearn.datasets import load_files\n",
        "from sklearn.feature_extraction.text import TfidfVectorizer\n",
        "from nltk import word_tokenize\n",
        "from nltk.stem import WordNetLemmatizer\n",
        "from nltk.corpus import stopwords\n",
        "from sklearn.linear_model import LogisticRegressionCV\n",
        "from sklearn.metrics import accuracy_score, classification_report\n",
        "from sklearn.model_selection import train_test_split\n",
        "from sklearn.metrics import confusion_matrix\n",
        "from scipy.special import expit\n",
        "#nltk.download('wordnet') # run this if you are running for the first time on a new machine.\n",
        "#nltk.download('stopwords') # run this if you are running for the first time on a ne\n",
        "\n",
        "import string\n",
        "\n",
        "import csv\n",
        "\n",
        "import re\n",
        "\n",
        "from statsmodels.stats.outliers_influence import variance_inflation_factor\n",
        "import os\n",
        "import datetime\n",
        "import numpy as np\n",
        "import pandas as pd\n",
        "import matplotlib.pyplot as plt\n",
        "%matplotlib inline\n",
        "import seaborn as sns\n",
        "sns.set()"
      ],
      "execution_count": null,
      "outputs": []
    },
    {
      "cell_type": "code",
      "metadata": {
        "id": "WgMLHeYCcBHG",
        "colab_type": "code",
        "colab": {},
        "outputId": "32a63e7e-c545-4412-d239-d96db17c2867"
      },
      "source": [
        "reviews_train = load_files(\"aclImdb/train/\")\n",
        "text_train, y_train = reviews_train.data, reviews_train.target\n",
        "\n",
        "print(\"Number of documents in train data: {}\".format(len(text_train)))\n",
        "print(\"Samples per class (train): {}\".format(np.bincount(y_train)))\n",
        "\n",
        "reviews_test = load_files(\"aclImdb/test/\")\n",
        "text_test, y_test = reviews_test.data, reviews_test.target\n",
        "\n",
        "print(\"Number of documents in test data: {}\".format(len(text_test)))\n",
        "print(\"Samples per class (test): {}\".format(np.bincount(y_test)))\n",
        "\n",
        "\n"
      ],
      "execution_count": null,
      "outputs": [
        {
          "output_type": "stream",
          "text": [
            "Number of documents in train data: 25000\n",
            "Samples per class (train): [12500 12500]\n",
            "Number of documents in test data: 25000\n",
            "Samples per class (test): [12500 12500]\n"
          ],
          "name": "stdout"
        }
      ]
    },
    {
      "cell_type": "code",
      "metadata": {
        "id": "T-HtH4eOcBHL",
        "colab_type": "code",
        "colab": {}
      },
      "source": [
        "categories = ['negative','positive']\n",
        "\n",
        "class LemmaTokenizer(object):\n",
        "    \n",
        "    def __init__(self):\n",
        "        self.wnl = WordNetLemmatizer()\n",
        "    def __call__(self, doc):\n",
        "        return [self.wnl.lemmatize(t) for t in word_tokenize(doc)]"
      ],
      "execution_count": null,
      "outputs": []
    },
    {
      "cell_type": "code",
      "metadata": {
        "id": "AAqelVlFcBHP",
        "colab_type": "code",
        "colab": {},
        "outputId": "f6af08ee-dec4-470e-a3c1-3e63f81d5e9d"
      },
      "source": [
        "\n",
        "#takes about 4 minutes because data too big\n",
        "vect=TfidfVectorizer(min_df=25, ngram_range=(1,2), stop_words='english',tokenizer=LemmaTokenizer())\n",
        "vect.fit(text_train)\n",
        "\n",
        "X_train = vect.transform(text_train)\n",
        "\n",
        "print(\"Vocabulary size: {}\".format(len(vect.vocabulary_)))\n",
        "\n",
        "feature_names = vect.get_feature_names()\n",
        "print(\"Number of features: {}\".format(len(feature_names)))\n",
        "\n",
        "print(X_train)"
      ],
      "execution_count": null,
      "outputs": [
        {
          "output_type": "stream",
          "text": [
            "C:\\Users\\HASAN\\Anaconda3\\lib\\site-packages\\sklearn\\feature_extraction\\text.py:300: UserWarning: Your stop_words may be inconsistent with your preprocessing. Tokenizing the stop words generated tokens ['ha', 'le', 'u', 'wa'] not in stop_words.\n",
            "  'stop_words.' % sorted(inconsistent))\n"
          ],
          "name": "stderr"
        },
        {
          "output_type": "stream",
          "text": [
            "Vocabulary size: 21926\n",
            "Number of features: 21926\n",
            "  (0, 21906)\t0.11867790407122258\n",
            "  (0, 21868)\t0.07062769726114684\n",
            "  (0, 21687)\t0.0695210997501014\n",
            "  (0, 19855)\t0.11679678693285706\n",
            "  (0, 19847)\t0.05431170683368123\n",
            "  (0, 19715)\t0.08653999399822486\n",
            "  (0, 19710)\t0.21208439274268426\n",
            "  (0, 19346)\t0.12065615716676824\n",
            "  (0, 18470)\t0.12945557419752662\n",
            "  (0, 17141)\t0.12065615716676824\n",
            "  (0, 16466)\t0.16128957407383882\n",
            "  (0, 16464)\t0.12196879375937876\n",
            "  (0, 15807)\t0.16128957407383882\n",
            "  (0, 15802)\t0.08635632633181531\n",
            "  (0, 15407)\t0.09447539818991392\n",
            "  (0, 14692)\t0.1532763210796932\n",
            "  (0, 14399)\t0.031625283152542254\n",
            "  (0, 14375)\t0.13591451474194224\n",
            "  (0, 14268)\t0.14910794245945053\n",
            "  (0, 14034)\t0.08599354885963803\n",
            "  (0, 13245)\t0.11223320205631339\n",
            "  (0, 12982)\t0.07983332016120623\n",
            "  (0, 11758)\t0.08517498423069995\n",
            "  (0, 11638)\t0.143702184036974\n",
            "  (0, 11632)\t0.11041381137462226\n",
            "  :\t:\n",
            "  (24999, 996)\t0.046814244833290365\n",
            "  (24999, 994)\t0.046069478462753964\n",
            "  (24999, 986)\t0.1934447508480433\n",
            "  (24999, 962)\t0.07366938511111587\n",
            "  (24999, 899)\t0.026483660920819958\n",
            "  (24999, 888)\t0.05018228594062982\n",
            "  (24999, 766)\t0.07960224661385112\n",
            "  (24999, 742)\t0.04829070251102305\n",
            "  (24999, 720)\t0.05049205170733107\n",
            "  (24999, 711)\t0.06145845314490028\n",
            "  (24999, 704)\t0.029496683519056665\n",
            "  (24999, 526)\t0.07927371787846693\n",
            "  (24999, 452)\t0.04995623255123529\n",
            "  (24999, 320)\t0.055232113975207754\n",
            "  (24999, 298)\t0.03291017572793642\n",
            "  (24999, 253)\t0.03466649111516352\n",
            "  (24999, 226)\t0.07242970793500077\n",
            "  (24999, 174)\t0.06509160114824951\n",
            "  (24999, 150)\t0.07805492423311824\n",
            "  (24999, 134)\t0.08294464160076388\n",
            "  (24999, 125)\t0.07030152872340131\n",
            "  (24999, 124)\t0.044296711461160224\n",
            "  (24999, 117)\t0.16553300038199628\n",
            "  (24999, 3)\t0.04682829478247202\n",
            "  (24999, 0)\t0.02139527730455112\n"
          ],
          "name": "stdout"
        }
      ]
    },
    {
      "cell_type": "code",
      "metadata": {
        "id": "SAMZkTX0cBHT",
        "colab_type": "code",
        "colab": {},
        "outputId": "77aecbfa-825d-4eac-cc67-3bc1b58f6ef4"
      },
      "source": [
        "\n",
        "X_TRAIN, X_TEST, Y_TRAIN, Y_TEST = train_test_split( X_train, y_train, train_size = 0.80 )\n",
        "\n",
        "print(Y_TRAIN)"
      ],
      "execution_count": null,
      "outputs": [
        {
          "output_type": "stream",
          "text": [
            "[1 1 0 ... 0 0 0]\n"
          ],
          "name": "stdout"
        }
      ]
    },
    {
      "cell_type": "code",
      "metadata": {
        "id": "4UxtErHbcBHY",
        "colab_type": "code",
        "colab": {},
        "outputId": "a12ce20b-afb3-4a86-f21a-2c047800268a"
      },
      "source": [
        "print(Y_TRAIN)"
      ],
      "execution_count": null,
      "outputs": [
        {
          "output_type": "stream",
          "text": [
            "[1 1 0 ... 0 0 0]\n"
          ],
          "name": "stdout"
        }
      ]
    },
    {
      "cell_type": "code",
      "metadata": {
        "id": "maRJjclfcBHb",
        "colab_type": "code",
        "colab": {},
        "outputId": "36ee6d83-78d1-4ba7-b004-22cd7c274ceb"
      },
      "source": [
        "    \n",
        "lr = LogisticRegressionCV(cv=5, max_iter=10000)\n",
        "lr.fit(X_TRAIN, Y_TRAIN)\n"
      ],
      "execution_count": null,
      "outputs": [
        {
          "output_type": "stream",
          "text": [
            "Accuracy = 0.8958\n"
          ],
          "name": "stdout"
        }
      ]
    },
    {
      "cell_type": "code",
      "metadata": {
        "id": "45JGAryIcBHf",
        "colab_type": "code",
        "colab": {},
        "outputId": "c2904ed6-c68e-4f53-8dd6-47633ab3eeb8"
      },
      "source": [
        "\n",
        "\n",
        "Predicted= lr.predict(X_TEST)\n",
        "Prediction_accuracy=accuracy_score(Y_TEST, Predicted)\n",
        "print(\"Final Accuracy: \", Prediction_accuracy) \n",
        "\n"
      ],
      "execution_count": null,
      "outputs": [
        {
          "output_type": "stream",
          "text": [
            "Final Accuracy:  0.8958\n"
          ],
          "name": "stdout"
        }
      ]
    },
    {
      "cell_type": "code",
      "metadata": {
        "id": "kt2OH806cBHj",
        "colab_type": "code",
        "colab": {}
      },
      "source": [
        "conf_mat=confusion_matrix(Y_TEST, Predicted)\n"
      ],
      "execution_count": null,
      "outputs": []
    },
    {
      "cell_type": "code",
      "metadata": {
        "id": "b_ci5rDEcBHm",
        "colab_type": "code",
        "colab": {},
        "outputId": "7c2276fd-27ab-467d-d4ee-9d836dee4fc8"
      },
      "source": [
        "fig, ax = plt.subplots(figsize=(7,5))\n",
        "\n",
        "sns.heatmap(conf_mat, annot=True, fmt='d',\n",
        "            xticklabels=categories, yticklabels=categories)\n",
        "plt.ylabel('Actual')\n",
        "plt.xlabel('Predicted')\n",
        "plt.show()"
      ],
      "execution_count": null,
      "outputs": [
        {
          "output_type": "display_data",
          "data": {
            "image/png": "[encoded data removed]",
            "text/plain": [
              "<Figure size 504x360 with 2 Axes>"
            ]
          },
          "metadata": {
            "tags": []
          }
        }
      ]
    },
    {
      "cell_type": "code",
      "metadata": {
        "id": "qrKgxkcVcBHp",
        "colab_type": "code",
        "colab": {}
      },
      "source": [
        "pred_test = lr.predict(vect.transform(text_test))"
      ],
      "execution_count": null,
      "outputs": []
    },
    {
      "cell_type": "code",
      "metadata": {
        "id": "KjxcLsdScBHs",
        "colab_type": "code",
        "colab": {},
        "outputId": "003f6582-3988-4444-995f-c820ffb764a9"
      },
      "source": [
        "conf_mat1=confusion_matrix(y_test, pred_test)\n",
        "print(conf_mat1, \"\\n\")\n",
        "print(conf_mat1.sum(), \"\\n\")\n",
        "\n",
        "\n",
        "fig, ax = plt.subplots(figsize=(7,5))\n",
        "\n",
        "sns.heatmap(conf_mat1, annot=True, fmt='d',\n",
        "            xticklabels=categories, yticklabels=categories)\n",
        "plt.ylabel('Actual')\n",
        "plt.xlabel('Predicted')\n",
        "plt.show()"
      ],
      "execution_count": null,
      "outputs": [
        {
          "output_type": "stream",
          "text": [
            "[[11020  1480]\n",
            " [ 1453 11047]] \n",
            "\n",
            "25000 \n",
            "\n"
          ],
          "name": "stdout"
        },
        {
          "output_type": "display_data",
          "data": {
            "image/png": "[encoded data removed]",
            "text/plain": [
              "<Figure size 504x360 with 2 Axes>"
            ]
          },
          "metadata": {
            "tags": []
          }
        }
      ]
    },
    {
      "cell_type": "code",
      "metadata": {
        "id": "rpgRUhW9cBHw",
        "colab_type": "code",
        "colab": {},
        "outputId": "72c537ff-94ad-435d-bad1-c58bf9f25d06"
      },
      "source": [
        "print(\"My accuracy on test data for negative reviews: \", 100*(conf_mat1[0][0]/(conf_mat1.sum()/2)))"
      ],
      "execution_count": null,
      "outputs": [
        {
          "output_type": "stream",
          "text": [
            "My accuracy on test data for negative reviews:  88.16000000000001\n"
          ],
          "name": "stdout"
        }
      ]
    },
    {
      "cell_type": "code",
      "metadata": {
        "id": "2cHevzXNcBHz",
        "colab_type": "code",
        "colab": {},
        "outputId": "100701c7-4aca-4f1f-a40c-12bf709a76d8"
      },
      "source": [
        "print(\"My accuracy on test data for positive reviews: \", 100*(conf_mat1[1][1]/(conf_mat1.sum()/2)))"
      ],
      "execution_count": null,
      "outputs": [
        {
          "output_type": "stream",
          "text": [
            "My accuracy on test data for positive reviews:  88.376\n"
          ],
          "name": "stdout"
        }
      ]
    },
    {
      "cell_type": "code",
      "metadata": {
        "id": "gIiHnws3cBH2",
        "colab_type": "code",
        "colab": {},
        "outputId": "3f1a1fd1-0b8f-4c91-c666-9c23970eecf2"
      },
      "source": [
        "print(classification_report(y_test, pred_test, target_names=categories))"
      ],
      "execution_count": null,
      "outputs": [
        {
          "output_type": "stream",
          "text": [
            "              precision    recall  f1-score   support\n",
            "\n",
            "    negative       0.88      0.88      0.88     12500\n",
            "    positive       0.88      0.88      0.88     12500\n",
            "\n",
            "    accuracy                           0.88     25000\n",
            "   macro avg       0.88      0.88      0.88     25000\n",
            "weighted avg       0.88      0.88      0.88     25000\n",
            "\n"
          ],
          "name": "stdout"
        }
      ]
    },
    {
      "cell_type": "code",
      "metadata": {
        "id": "pRNxprMLcBH5",
        "colab_type": "code",
        "colab": {},
        "outputId": "c0b223eb-c87c-4f81-d71a-e4b854d2ccd6"
      },
      "source": [
        "print(classification_report(Y_TEST, Predicted, target_names=categories))"
      ],
      "execution_count": null,
      "outputs": [
        {
          "output_type": "stream",
          "text": [
            "              precision    recall  f1-score   support\n",
            "\n",
            "    negative       0.90      0.89      0.90      2497\n",
            "    positive       0.89      0.90      0.90      2503\n",
            "\n",
            "    accuracy                           0.90      5000\n",
            "   macro avg       0.90      0.90      0.90      5000\n",
            "weighted avg       0.90      0.90      0.90      5000\n",
            "\n"
          ],
          "name": "stdout"
        }
      ]
    },
    {
      "cell_type": "code",
      "metadata": {
        "id": "cJ8JDmZXcBH9",
        "colab_type": "code",
        "colab": {}
      },
      "source": [
        ""
      ],
      "execution_count": null,
      "outputs": []
    }
  ]
}